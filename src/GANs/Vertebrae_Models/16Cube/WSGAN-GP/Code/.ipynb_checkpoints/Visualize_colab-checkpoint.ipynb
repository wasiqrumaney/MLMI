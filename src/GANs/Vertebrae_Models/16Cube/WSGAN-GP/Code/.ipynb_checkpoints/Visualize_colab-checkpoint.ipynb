{
 "cells": [
  {
   "cell_type": "code",
   "execution_count": 1,
   "metadata": {},
   "outputs": [],
   "source": [
    "from visdom import Visdom\n",
    "import pickle\n",
    "import skimage.measure as sk\n",
    "from skimage.measure import marching_cubes_lewiner\n",
    "import h5py as h5\n",
    "import numpy as np \n",
    "from data_utils import plot_3d_mesh\n",
    "import matplotlib.pyplot as plt\n",
    "\n"
   ]
  },
  {
   "cell_type": "code",
   "execution_count": 2,
   "metadata": {},
   "outputs": [],
   "source": [
    "def getVFByMarchingCubes(voxels, threshold=0.5):\n",
    "    \"\"\"Voxel 로 부터 Vertices, faces 리턴 하는 함수\"\"\"\n",
    "    #v, f = sk.marching_cubes_classic(voxels) #, level=threshold)\n",
    "    voxels = np.pad(voxels, pad_width=((1, 1), (1, 1), (1, 1)), mode='constant')\n",
    "    v, f, _, _  = marching_cubes_lewiner(voxels, level= threshold)#\n",
    "    return v, f\n",
    "\n",
    "\n",
    "def plotVoxelVisdom(voxels, visdom, title):\n",
    "    v, f = getVFByMarchingCubes(voxels)\n",
    "    visdom.mesh(X=v, Y=f, opts=dict(opacity=0.5, title=title))\n"
   ]
  },
  {
   "cell_type": "code",
   "execution_count": 3,
   "metadata": {},
   "outputs": [],
   "source": [
    "DEFAULT_PORT = 8097\n",
    "DEFAULT_HOSTNAME = \"http://localhost\"\n",
    "viz = Visdom(DEFAULT_HOSTNAME,DEFAULT_PORT, ipv6=False)"
   ]
  },
  {
   "cell_type": "code",
   "execution_count": 4,
   "metadata": {},
   "outputs": [],
   "source": [
    "number= '850'\n",
    "filename=\"./voxels/\" +str(number) + \".pkl\"\n",
    "with open(filename, \"rb\") as f:\n",
    "    voxels = pickle.load(f)\n",
    "    #plot_3d_mesh(voxels)\n",
    "    #plotVoxelVisdom(voxels, viz, \"plot\")\n",
    "    for i in range(8):\n",
    "        arr = voxels[i,...]\n",
    "        #print(arr)\n",
    "        plotVoxelVisdom(arr, viz, \"plot\")\n",
    "        #print(np.max(arr), np.min(arr))"
   ]
  },
  {
   "cell_type": "code",
   "execution_count": 7,
   "metadata": {},
   "outputs": [],
   "source": [
    "def plot_3d_sum(voxels, axes=[0, 1, 2]):\n",
    "    vol = voxels.squeeze()\n",
    "\n",
    "    plt.figure()\n",
    "    n = len(axes)\n",
    "    for i in range(n):\n",
    "        img2d = np.sum(vol, axis=axes[i])\n",
    "        plt.subplot(1, n, i + 1)\n",
    "        plt.imshow(img2d)\n"
   ]
  },
  {
   "cell_type": "code",
   "execution_count": 8,
   "metadata": {},
   "outputs": [
    {
     "ename": "NameError",
     "evalue": "name 'plt' is not defined",
     "output_type": "error",
     "traceback": [
      "\u001b[0;31m---------------------------------------------------------------------------\u001b[0m",
      "\u001b[0;31mNameError\u001b[0m                                 Traceback (most recent call last)",
      "\u001b[0;32m<ipython-input-8-d47715b306d9>\u001b[0m in \u001b[0;36m<module>\u001b[0;34m\u001b[0m\n\u001b[1;32m      6\u001b[0m         \u001b[0marr\u001b[0m \u001b[0;34m=\u001b[0m \u001b[0mvoxels\u001b[0m\u001b[0;34m[\u001b[0m\u001b[0mi\u001b[0m\u001b[0;34m,\u001b[0m\u001b[0;34m...\u001b[0m\u001b[0;34m]\u001b[0m\u001b[0;34m\u001b[0m\u001b[0m\n\u001b[1;32m      7\u001b[0m         \u001b[0;31m#print(arr)\u001b[0m\u001b[0;34m\u001b[0m\u001b[0;34m\u001b[0m\u001b[0m\n\u001b[0;32m----> 8\u001b[0;31m         \u001b[0mplot_3d_sum\u001b[0m\u001b[0;34m(\u001b[0m\u001b[0marr\u001b[0m\u001b[0;34m)\u001b[0m\u001b[0;34m\u001b[0m\u001b[0m\n\u001b[0m",
      "\u001b[0;32m<ipython-input-7-f0e256856b8e>\u001b[0m in \u001b[0;36mplot_3d_sum\u001b[0;34m(voxels, axes)\u001b[0m\n\u001b[1;32m      2\u001b[0m     \u001b[0mvol\u001b[0m \u001b[0;34m=\u001b[0m \u001b[0mvoxels\u001b[0m\u001b[0;34m.\u001b[0m\u001b[0msqueeze\u001b[0m\u001b[0;34m(\u001b[0m\u001b[0;34m)\u001b[0m\u001b[0;34m\u001b[0m\u001b[0m\n\u001b[1;32m      3\u001b[0m \u001b[0;34m\u001b[0m\u001b[0m\n\u001b[0;32m----> 4\u001b[0;31m     \u001b[0mplt\u001b[0m\u001b[0;34m.\u001b[0m\u001b[0mfigure\u001b[0m\u001b[0;34m(\u001b[0m\u001b[0;34m)\u001b[0m\u001b[0;34m\u001b[0m\u001b[0m\n\u001b[0m\u001b[1;32m      5\u001b[0m     \u001b[0mn\u001b[0m \u001b[0;34m=\u001b[0m \u001b[0mlen\u001b[0m\u001b[0;34m(\u001b[0m\u001b[0maxes\u001b[0m\u001b[0;34m)\u001b[0m\u001b[0;34m\u001b[0m\u001b[0m\n\u001b[1;32m      6\u001b[0m     \u001b[0;32mfor\u001b[0m \u001b[0mi\u001b[0m \u001b[0;32min\u001b[0m \u001b[0mrange\u001b[0m\u001b[0;34m(\u001b[0m\u001b[0mn\u001b[0m\u001b[0;34m)\u001b[0m\u001b[0;34m:\u001b[0m\u001b[0;34m\u001b[0m\u001b[0m\n",
      "\u001b[0;31mNameError\u001b[0m: name 'plt' is not defined"
     ]
    }
   ],
   "source": [
    "with open(filename, \"rb\") as f:\n",
    "    voxels = pickle.load(f)\n",
    "    #plot_3d_mesh(voxels)\n",
    "    #plotVoxelVisdom(voxels, viz, \"plot\")\n",
    "    for i in range(8):\n",
    "        arr = voxels[i,...]\n",
    "        #print(arr)\n",
    "        plot_3d_sum(arr)"
   ]
  },
  {
   "cell_type": "markdown",
   "metadata": {},
   "source": [
    "# Normalized voxels with noise added"
   ]
  },
  {
   "cell_type": "code",
   "execution_count": 36,
   "metadata": {},
   "outputs": [],
   "source": [
    "with h5.File('full_dataset_vectors.h5', 'r') as f:\n",
    "    X_train = f[\"X_train\"][:]\n",
    "    y_train = f[\"y_train\"][:]"
   ]
  },
  {
   "cell_type": "code",
   "execution_count": 40,
   "metadata": {},
   "outputs": [
    {
     "data": {
      "text/plain": [
       "(10000, 16, 16, 16)"
      ]
     },
     "execution_count": 40,
     "metadata": {},
     "output_type": "execute_result"
    }
   ],
   "source": [
    "X_train = X_train.reshape(-1,16,16,16)\n",
    "X_train.shape"
   ]
  },
  {
   "cell_type": "code",
   "execution_count": 52,
   "metadata": {},
   "outputs": [
    {
     "name": "stdout",
     "output_type": "stream",
     "text": [
      "(16, 16, 16)\n",
      "1.0 0.0\n",
      "(16, 16, 16)\n",
      "1.0 0.0\n",
      "(16, 16, 16)\n",
      "1.0 0.0\n",
      "(16, 16, 16)\n",
      "1.0 0.0\n",
      "(16, 16, 16)\n",
      "1.0 0.0\n",
      "(16, 16, 16)\n",
      "1.0 0.0\n",
      "(16, 16, 16)\n",
      "1.0 0.0\n",
      "(16, 16, 16)\n",
      "1.0 0.0\n",
      "(16, 16, 16)\n",
      "1.0 0.0\n",
      "(16, 16, 16)\n",
      "1.0 0.0\n"
     ]
    }
   ],
   "source": [
    "i=15 #input()\n",
    "rand = np.random.choice(np.arange(10000), size= 10)\n",
    "for r in rand: \n",
    "    arr = X_train[r,...]\n",
    "    print(arr.shape)\n",
    "    plotVoxelVisdom(arr, viz, title=str(y_train[r]))\n",
    "    print(np.max(arr), np.min(arr))"
   ]
  },
  {
   "cell_type": "code",
   "execution_count": null,
   "metadata": {},
   "outputs": [],
   "source": []
  }
 ],
 "metadata": {
  "kernelspec": {
   "display_name": "Python 3",
   "language": "python",
   "name": "python3"
  },
  "language_info": {
   "codemirror_mode": {
    "name": "ipython",
    "version": 3
   },
   "file_extension": ".py",
   "mimetype": "text/x-python",
   "name": "python",
   "nbconvert_exporter": "python",
   "pygments_lexer": "ipython3",
   "version": "3.6.6"
  }
 },
 "nbformat": 4,
 "nbformat_minor": 2
}
